{
  "nbformat": 4,
  "nbformat_minor": 0,
  "metadata": {
    "colab": {
      "name": "Untitled1.ipynb",
      "provenance": [],
      "collapsed_sections": []
    },
    "kernelspec": {
      "name": "python3",
      "display_name": "Python 3"
    }
  },
  "cells": [
    {
      "cell_type": "markdown",
      "metadata": {
        "id": "Xomq192Iz0aO",
        "colab_type": "text"
      },
      "source": [
        "**Import**"
      ]
    },
    {
      "cell_type": "code",
      "metadata": {
        "id": "Doyf5el8z3x7",
        "colab_type": "code",
        "colab": {}
      },
      "source": [
        "import tensorflow_datasets as tfds\n",
        "import tensorflow as tf\n",
        "from tensorflow.keras.preprocessing.image import ImageDataGenerator\n",
        "from tensorflow.keras.layers import Conv2D, Dense, BatchNormalization, Activation, MaxPool2D, GlobalAveragePooling2D, Add\n",
        "from tensorflow.keras import Model\n",
        "import time\n",
        "import matplotlib.pyplot as plt"
      ],
      "execution_count": 0,
      "outputs": []
    },
    {
      "cell_type": "markdown",
      "metadata": {
        "id": "8ehkvAbOz-eO",
        "colab_type": "text"
      },
      "source": [
        "**Load DataSet**"
      ]
    },
    {
      "cell_type": "code",
      "metadata": {
        "id": "e8BsJU2m0EVX",
        "colab_type": "code",
        "colab": {}
      },
      "source": [
        "# Load MNIST Dataset\n",
        "dataset, info = tfds.load('mnist', as_supervised = True, with_info = True)\n",
        "dataset_test, dataset_train = dataset['test'], dataset['train']\n",
        "\n",
        "#Convert\n",
        "def convert_types(image, label):\n",
        "    image = tf.cast(image, tf.float32)\n",
        "    image /= 255\n",
        "    return image, label\n",
        "\n",
        "batch_size = 128\n",
        "\n",
        "dataset_train = dataset_train.map(convert_types).shuffle(10000).batch(batch_size)\n",
        "dataset_test = dataset_test.map(convert_types).batch(batch_size)\n",
        "#Data Augmentation\n",
        "datagen = ImageDataGenerator(rotation_range = 10, horizontal_flip = True, zoom_range = 0.1)"
      ],
      "execution_count": 0,
      "outputs": []
    },
    {
      "cell_type": "markdown",
      "metadata": {
        "id": "EMFpufEb0tle",
        "colab_type": "text"
      },
      "source": [
        "**ResNet50 Model**"
      ]
    },
    {
      "cell_type": "code",
      "metadata": {
        "id": "u0o43O140xHt",
        "colab_type": "code",
        "colab": {
          "base_uri": "https://localhost:8080/",
          "height": 1000
        },
        "outputId": "ac7c2939-55d8-4926-d3a1-ebcaf949cd25"
      },
      "source": [
        "# Residual Block\n",
        "class ResidualBlock(Model):\n",
        "    def __init__(self, channel_in = 64, channel_out = 256):\n",
        "        super().__init__()\n",
        "      \n",
        "        channel = channel_out // 4\n",
        "        # Batch Normalization after Concolution layer\n",
        "        self.conv1 = Conv2D(channel, kernel_size = (1, 1), padding = \"same\")\n",
        "        self.bn1 = BatchNormalization()\n",
        "        self.av1 = Activation(tf.nn.relu)\n",
        "        self.conv2 = Conv2D(channel, kernel_size = (3, 3), padding = \"same\")\n",
        "        self.bn2 = BatchNormalization()\n",
        "        self.av2 = Activation(tf.nn.relu)\n",
        "        self.conv3 = Conv2D(channel_out, kernel_size = (1, 1), padding = \"same\")\n",
        "        self.bn3 = BatchNormalization()\n",
        "        self.shortcut = self._shortcut(channel_in, channel_out)\n",
        "        self.add = Add()\n",
        "        self.av3 = Activation(tf.nn.relu)\n",
        "        \n",
        "    def call(self, x):\n",
        "        h = self.conv1(x)\n",
        "        h = self.bn1(h)\n",
        "        h = self.av1(h)\n",
        "        h = self.conv2(h)\n",
        "        h = self.bn2(h)\n",
        "        h = self.av2(h)\n",
        "        h = self.conv3(h)\n",
        "        h = self.bn3(h)\n",
        "        shortcut = self.shortcut(x)\n",
        "        h = self.add([h, shortcut])\n",
        "        y = self.av3(h)\n",
        "        return y\n",
        "    \n",
        "    # Shortcut\n",
        "    def _shortcut(self, channel_in, channel_out):\n",
        "        if channel_in == channel_out:\n",
        "            return lambda x : x\n",
        "        else:\n",
        "            return self._projection(channel_out)\n",
        "        \n",
        "    def _projection(self, channel_out):\n",
        "        return Conv2D(channel_out, kernel_size = (1, 1), padding = \"same\")\n",
        "\n",
        "# ResNet           \n",
        "class ResNet50(Model):\n",
        "    def __init__(self, input_shape, output_dim):\n",
        "        super().__init__()                \n",
        "        \n",
        "        self._layers = [\n",
        "            # convolution Layer 1 (conv1)\n",
        "            Conv2D(64, input_shape = input_shape, kernel_size = (7, 7), strides=(2, 2), padding = \"same\"),\n",
        "            BatchNormalization(),\n",
        "            Activation(tf.nn.relu),\n",
        "            # convolution Layer 2 (conv2_x)\n",
        "            MaxPool2D(pool_size = (3, 3), strides = (2, 2), padding = \"same\"),\n",
        "            ResidualBlock(64, 256),\n",
        "            [\n",
        "                ResidualBlock(256, 256) for _ in range(2)                \n",
        "            ],\n",
        "            # convolution Layer 3 (conv3_x)\n",
        "            Conv2D(512, kernel_size = (1, 1), strides=(2, 2)),\n",
        "            [\n",
        "                ResidualBlock(512, 512) for _ in range(4)                \n",
        "            ],\n",
        "            # convolution Layer 4 (conv4_x)\n",
        "            Conv2D(1024, kernel_size = (1, 1), strides=(2, 2)),\n",
        "            [\n",
        "                ResidualBlock(1024, 1024) for _ in range(6)                \n",
        "            ],\n",
        "            # convolution Layer 5 (conv5_x)\n",
        "            Conv2D(2048, kernel_size = (1, 1), strides=(2, 2)),\n",
        "            [\n",
        "                ResidualBlock(2048, 2048) for _ in range(3)\n",
        "            ],\n",
        "            # Average Pooling and FC1000 layer\n",
        "            GlobalAveragePooling2D(),\n",
        "            Dense(1000, activation = tf.nn.relu),\n",
        "            Dense(output_dim, activation = tf.nn.softmax)\n",
        "        ]\n",
        "        \n",
        "    def call(self, x):\n",
        "        for layer in self._layers:\n",
        "            if isinstance(layer, list):\n",
        "                for l in layer:\n",
        "                    x = l(x)    \n",
        "            else:\n",
        "                x = layer(x)\n",
        "        return x\n",
        "       \n",
        "model = ResNet50((28, 28, 1), 10)\n",
        "model.build(input_shape = (None, 28, 28, 1))\n",
        "model.summary()"
      ],
      "execution_count": 9,
      "outputs": [
        {
          "output_type": "stream",
          "text": [
            "Model: \"res_net_1\"\n",
            "_________________________________________________________________\n",
            "Layer (type)                 Output Shape              Param #   \n",
            "=================================================================\n",
            "conv2d_53 (Conv2D)           multiple                  3200      \n",
            "_________________________________________________________________\n",
            "batch_normalization_49 (Batc multiple                  256       \n",
            "_________________________________________________________________\n",
            "activation_49 (Activation)   multiple                  0         \n",
            "_________________________________________________________________\n",
            "max_pooling2d_1 (MaxPooling2 multiple                  0         \n",
            "_________________________________________________________________\n",
            "residual_block_16 (ResidualB multiple                  75904     \n",
            "_________________________________________________________________\n",
            "residual_block_17 (ResidualB multiple                  71552     \n",
            "_________________________________________________________________\n",
            "residual_block_18 (ResidualB multiple                  71552     \n",
            "_________________________________________________________________\n",
            "conv2d_64 (Conv2D)           multiple                  131584    \n",
            "_________________________________________________________________\n",
            "residual_block_19 (ResidualB multiple                  282368    \n",
            "_________________________________________________________________\n",
            "residual_block_20 (ResidualB multiple                  282368    \n",
            "_________________________________________________________________\n",
            "residual_block_21 (ResidualB multiple                  282368    \n",
            "_________________________________________________________________\n",
            "residual_block_22 (ResidualB multiple                  282368    \n",
            "_________________________________________________________________\n",
            "conv2d_77 (Conv2D)           multiple                  525312    \n",
            "_________________________________________________________________\n",
            "residual_block_23 (ResidualB multiple                  1121792   \n",
            "_________________________________________________________________\n",
            "residual_block_24 (ResidualB multiple                  1121792   \n",
            "_________________________________________________________________\n",
            "residual_block_25 (ResidualB multiple                  1121792   \n",
            "_________________________________________________________________\n",
            "residual_block_26 (ResidualB multiple                  1121792   \n",
            "_________________________________________________________________\n",
            "residual_block_27 (ResidualB multiple                  1121792   \n",
            "_________________________________________________________________\n",
            "residual_block_28 (ResidualB multiple                  1121792   \n",
            "_________________________________________________________________\n",
            "conv2d_96 (Conv2D)           multiple                  2099200   \n",
            "_________________________________________________________________\n",
            "residual_block_29 (ResidualB multiple                  4471808   \n",
            "_________________________________________________________________\n",
            "residual_block_30 (ResidualB multiple                  4471808   \n",
            "_________________________________________________________________\n",
            "residual_block_31 (ResidualB multiple                  4471808   \n",
            "_________________________________________________________________\n",
            "global_average_pooling2d_1 ( multiple                  0         \n",
            "_________________________________________________________________\n",
            "dense_2 (Dense)              multiple                  2049000   \n",
            "_________________________________________________________________\n",
            "dense_3 (Dense)              multiple                  10010     \n",
            "=================================================================\n",
            "Total params: 26,313,218\n",
            "Trainable params: 26,267,778\n",
            "Non-trainable params: 45,440\n",
            "_________________________________________________________________\n"
          ],
          "name": "stdout"
        }
      ]
    },
    {
      "cell_type": "markdown",
      "metadata": {
        "id": "8Hcc8qlm1OoS",
        "colab_type": "text"
      },
      "source": [
        "**Loss and OPtimizer**"
      ]
    },
    {
      "cell_type": "code",
      "metadata": {
        "id": "nZDksxMI1JPx",
        "colab_type": "code",
        "colab": {}
      },
      "source": [
        "# Categorial CrossEntropy\n",
        "loss_object = tf.keras.losses.SparseCategoricalCrossentropy()\n",
        "# Adam\n",
        "optimizer = tf.keras.optimizers.Adam()"
      ],
      "execution_count": 0,
      "outputs": []
    },
    {
      "cell_type": "markdown",
      "metadata": {
        "id": "24bzsWli1Zc1",
        "colab_type": "text"
      },
      "source": [
        "**Pre-Training**"
      ]
    },
    {
      "cell_type": "code",
      "metadata": {
        "id": "u5XVpzlC1bgY",
        "colab_type": "code",
        "colab": {}
      },
      "source": [
        "# Train Loss and Accuracy\n",
        "train_loss = tf.keras.metrics.Mean(name = 'train_loss')\n",
        "train_accuracy = tf.keras.metrics.SparseCategoricalAccuracy(name = 'train_accuracy')\n",
        "# Test Loss and Accuracy\n",
        "test_loss = tf.keras.metrics.Mean(name = 'test_loss')\n",
        "test_accuracy = tf.keras.metrics.SparseCategoricalAccuracy(name = 'test_accuracy')\n",
        "\n",
        "\n",
        "@tf.function\n",
        "def train_step(image, label):\n",
        "    with tf.GradientTape() as tape:\n",
        "        predictions = model(image)\n",
        "        loss = loss_object(label, predictions)\n",
        "    gradients = tape.gradient(loss, model.trainable_variables)\n",
        "    optimizer.apply_gradients(zip(gradients, model.trainable_variables))\n",
        "    \n",
        "    train_loss(loss)\n",
        "    train_accuracy(label, predictions)\n",
        "        \n",
        "@tf.function\n",
        "def test_step(image, label):\n",
        "    predictions = model(image)\n",
        "    loss = loss_object(label, predictions)\n",
        "    \n",
        "    test_loss(loss)\n",
        "    test_accuracy(label, predictions)\n"
      ],
      "execution_count": 0,
      "outputs": []
    },
    {
      "cell_type": "markdown",
      "metadata": {
        "id": "HIgU19vl1y2j",
        "colab_type": "text"
      },
      "source": [
        "**Training**"
      ]
    },
    {
      "cell_type": "code",
      "metadata": {
        "id": "urBKjT7f12oQ",
        "colab_type": "code",
        "colab": {
          "base_uri": "https://localhost:8080/",
          "height": 877
        },
        "outputId": "a27d6e6a-0f8c-4e77-c50c-2b4a493bb0d9"
      },
      "source": [
        "num_epoch = 50\n",
        "start_time = time.time()\n",
        "\n",
        "train_accuracies = []\n",
        "test_accuracies = []\n",
        "\n",
        "for epoch in range(num_epoch):    \n",
        "    for image, label in dataset_train:\n",
        "        for _image, _label in datagen.flow(image, label, batch_size = batch_size):\n",
        "            train_step(_image, _label)\n",
        "            break\n",
        "        \n",
        "    for test_image, test_label in dataset_test:\n",
        "        test_step(test_image, test_label)\n",
        "        \n",
        "    train_accuracies.append(train_accuracy.result())\n",
        "    test_accuracies.append(test_accuracy.result())    \n",
        "    \n",
        "    template = 'Epoch {}, Loss: {}, Accuracy: {}, Test Loss: {}, Test Accuracy: {}, spent_time: {} min'\n",
        "    spent_time = time.time() - start_time\n",
        "    print(template.format(epoch + 1, train_loss.result(), train_accuracy.result() * 100, test_loss.result(), test_accuracy.result() * 100, spent_time / 60))\n"
      ],
      "execution_count": 12,
      "outputs": [
        {
          "output_type": "stream",
          "text": [
            "Epoch 1, Loss: 0.6807350516319275, Accuracy: 75.73833465576172, Test Loss: 0.17914921045303345, Test Accuracy: 94.76000213623047, spent_time: 0.8261510252952575 min\n",
            "Epoch 2, Loss: 0.4209822118282318, Accuracy: 85.50833129882812, Test Loss: 0.14059126377105713, Test Accuracy: 95.79499816894531, spent_time: 1.4815698663393657 min\n",
            "Epoch 3, Loss: 0.3227335810661316, Accuracy: 89.14888763427734, Test Loss: 0.12302588671445847, Test Accuracy: 96.26000213623047, spent_time: 2.137596619129181 min\n",
            "Epoch 4, Loss: 0.26930177211761475, Accuracy: 91.08291625976562, Test Loss: 0.111155666410923, Test Accuracy: 96.63999938964844, spent_time: 2.79676558971405 min\n",
            "Epoch 5, Loss: 0.23468300700187683, Accuracy: 92.31266021728516, Test Loss: 0.1010543704032898, Test Accuracy: 96.9540023803711, spent_time: 3.4631495674451194 min\n",
            "Epoch 6, Loss: 0.21036475896835327, Accuracy: 93.18305969238281, Test Loss: 0.10000288486480713, Test Accuracy: 97.02666473388672, spent_time: 4.127037608623505 min\n",
            "Epoch 7, Loss: 0.1926209181547165, Accuracy: 93.80213928222656, Test Loss: 0.09540344774723053, Test Accuracy: 97.15714263916016, spent_time: 4.786138995488485 min\n",
            "Epoch 8, Loss: 0.17878134548664093, Accuracy: 94.28874969482422, Test Loss: 0.08982667326927185, Test Accuracy: 97.33000183105469, spent_time: 5.456946655114492 min\n",
            "Epoch 9, Loss: 0.1675993651151657, Accuracy: 94.6759262084961, Test Loss: 0.08486209064722061, Test Accuracy: 97.47000122070312, spent_time: 6.126632678508758 min\n",
            "Epoch 10, Loss: 0.15774625539779663, Accuracy: 95.00633239746094, Test Loss: 0.08467452973127365, Test Accuracy: 97.48699951171875, spent_time: 6.786258824666342 min\n",
            "Epoch 11, Loss: 0.14966240525245667, Accuracy: 95.2793960571289, Test Loss: 0.08207087963819504, Test Accuracy: 97.56182098388672, spent_time: 7.4529639403025305 min\n",
            "Epoch 12, Loss: 0.14325450360774994, Accuracy: 95.50111389160156, Test Loss: 0.08134326338768005, Test Accuracy: 97.586669921875, spent_time: 8.123345851898193 min\n",
            "Epoch 13, Loss: 0.13701054453849792, Accuracy: 95.711669921875, Test Loss: 0.07940991967916489, Test Accuracy: 97.64691925048828, spent_time: 8.785428706804911 min\n",
            "Epoch 14, Loss: 0.13178884983062744, Accuracy: 95.88594818115234, Test Loss: 0.07747215777635574, Test Accuracy: 97.71356964111328, spent_time: 9.443934206167857 min\n",
            "Epoch 15, Loss: 0.1267632246017456, Accuracy: 96.05066680908203, Test Loss: 0.07566244155168533, Test Accuracy: 97.767333984375, spent_time: 10.100914820035298 min\n",
            "Epoch 16, Loss: 0.12240956723690033, Accuracy: 96.19874572753906, Test Loss: 0.07497847080230713, Test Accuracy: 97.79438018798828, spent_time: 10.762292436758678 min\n",
            "Epoch 17, Loss: 0.1186714768409729, Accuracy: 96.32303619384766, Test Loss: 0.07348114252090454, Test Accuracy: 97.83940887451172, spent_time: 11.414149232705434 min\n",
            "Epoch 18, Loss: 0.11510583013296127, Accuracy: 96.4383316040039, Test Loss: 0.07251224666833878, Test Accuracy: 97.86833190917969, spent_time: 12.069964043299358 min\n",
            "Epoch 19, Loss: 0.11170773208141327, Accuracy: 96.5476303100586, Test Loss: 0.07133229076862335, Test Accuracy: 97.89579010009766, spent_time: 12.72330641746521 min\n",
            "Epoch 20, Loss: 0.10872664302587509, Accuracy: 96.64508056640625, Test Loss: 0.07128144055604935, Test Accuracy: 97.90850067138672, spent_time: 13.378899192810058 min\n",
            "Epoch 21, Loss: 0.10592729598283768, Accuracy: 96.73682403564453, Test Loss: 0.07006651908159256, Test Accuracy: 97.94952392578125, spent_time: 14.023181788126628 min\n",
            "Epoch 22, Loss: 0.10321252048015594, Accuracy: 96.8258285522461, Test Loss: 0.06854729354381561, Test Accuracy: 97.99500274658203, spent_time: 14.679004442691802 min\n",
            "Epoch 23, Loss: 0.10089938342571259, Accuracy: 96.90021514892578, Test Loss: 0.0675291195511818, Test Accuracy: 98.03173828125, spent_time: 15.320839989185334 min\n",
            "Epoch 24, Loss: 0.09862464666366577, Accuracy: 96.97514343261719, Test Loss: 0.06651172786951065, Test Accuracy: 98.05999755859375, spent_time: 15.975407063961029 min\n",
            "Epoch 25, Loss: 0.09660674631595612, Accuracy: 97.03966522216797, Test Loss: 0.06600925326347351, Test Accuracy: 98.07279968261719, spent_time: 16.62228946685791 min\n",
            "Epoch 26, Loss: 0.09451724588871002, Accuracy: 97.10237121582031, Test Loss: 0.06498024612665176, Test Accuracy: 98.10076904296875, spent_time: 17.285550785064697 min\n",
            "Epoch 27, Loss: 0.09274552017450333, Accuracy: 97.15926361083984, Test Loss: 0.06433403491973877, Test Accuracy: 98.12333679199219, spent_time: 17.932568303744 min\n",
            "Epoch 28, Loss: 0.0911090150475502, Accuracy: 97.2131576538086, Test Loss: 0.06320232152938843, Test Accuracy: 98.15571594238281, spent_time: 18.58114592631658 min\n",
            "Epoch 29, Loss: 0.08929196000099182, Accuracy: 97.27056884765625, Test Loss: 0.06281284987926483, Test Accuracy: 98.16827392578125, spent_time: 19.230614598592123 min\n",
            "Epoch 30, Loss: 0.08779489248991013, Accuracy: 97.31788635253906, Test Loss: 0.06220412254333496, Test Accuracy: 98.18866729736328, spent_time: 19.88672114610672 min\n",
            "Epoch 31, Loss: 0.08618320524692535, Accuracy: 97.36860656738281, Test Loss: 0.0615198127925396, Test Accuracy: 98.20935821533203, spent_time: 20.539639763037364 min\n",
            "Epoch 32, Loss: 0.0847245380282402, Accuracy: 97.41520690917969, Test Loss: 0.060963746160268784, Test Accuracy: 98.22750091552734, spent_time: 21.220547664165498 min\n",
            "Epoch 33, Loss: 0.08331730216741562, Accuracy: 97.4588394165039, Test Loss: 0.060324396938085556, Test Accuracy: 98.24757385253906, spent_time: 21.896533552805582 min\n",
            "Epoch 34, Loss: 0.08205359429121017, Accuracy: 97.50068664550781, Test Loss: 0.05961043760180473, Test Accuracy: 98.26911926269531, spent_time: 22.57302328745524 min\n",
            "Epoch 35, Loss: 0.0807461366057396, Accuracy: 97.54100036621094, Test Loss: 0.05994969606399536, Test Accuracy: 98.25971984863281, spent_time: 23.243665075302125 min\n",
            "Epoch 36, Loss: 0.07983431965112686, Accuracy: 97.57069396972656, Test Loss: 0.059338029474020004, Test Accuracy: 98.2772216796875, spent_time: 23.910540544986723 min\n",
            "Epoch 37, Loss: 0.07869051396846771, Accuracy: 97.60590362548828, Test Loss: 0.05949442461133003, Test Accuracy: 98.27081298828125, spent_time: 24.58268282810847 min\n",
            "Epoch 38, Loss: 0.0775512307882309, Accuracy: 97.64078521728516, Test Loss: 0.059051670134067535, Test Accuracy: 98.2834243774414, spent_time: 25.24148972829183 min\n",
            "Epoch 39, Loss: 0.07643555849790573, Accuracy: 97.67465209960938, Test Loss: 0.05858942121267319, Test Accuracy: 98.29410552978516, spent_time: 25.906913749376933 min\n",
            "Epoch 40, Loss: 0.07542938739061356, Accuracy: 97.7074966430664, Test Loss: 0.058032307773828506, Test Accuracy: 98.3080062866211, spent_time: 26.581792799631753 min\n",
            "Epoch 41, Loss: 0.07440666109323502, Accuracy: 97.73873901367188, Test Loss: 0.057499609887599945, Test Accuracy: 98.31853485107422, spent_time: 27.247213486830393 min\n",
            "Epoch 42, Loss: 0.0734148845076561, Accuracy: 97.77015686035156, Test Loss: 0.05691222473978996, Test Accuracy: 98.33428955078125, spent_time: 27.91935306787491 min\n",
            "Epoch 43, Loss: 0.07245820760726929, Accuracy: 97.79922485351562, Test Loss: 0.0570807084441185, Test Accuracy: 98.34139251708984, spent_time: 28.578072094917296 min\n",
            "Epoch 44, Loss: 0.07158122211694717, Accuracy: 97.82723236083984, Test Loss: 0.05669798702001572, Test Accuracy: 98.35636901855469, spent_time: 29.24653300444285 min\n",
            "Epoch 45, Loss: 0.07066944241523743, Accuracy: 97.85529327392578, Test Loss: 0.05617101117968559, Test Accuracy: 98.37244415283203, spent_time: 29.913452418645225 min\n",
            "Epoch 46, Loss: 0.06980685889720917, Accuracy: 97.88285827636719, Test Loss: 0.05580466613173485, Test Accuracy: 98.38260650634766, spent_time: 30.590836425622303 min\n",
            "Epoch 47, Loss: 0.06901270896196365, Accuracy: 97.90663146972656, Test Loss: 0.0556359700858593, Test Accuracy: 98.39127349853516, spent_time: 31.258295687039695 min\n",
            "Epoch 48, Loss: 0.06820785254240036, Accuracy: 97.93156433105469, Test Loss: 0.055259253829717636, Test Accuracy: 98.40229034423828, spent_time: 31.91333194176356 min\n",
            "Epoch 49, Loss: 0.06740095466375351, Accuracy: 97.95609283447266, Test Loss: 0.054914094507694244, Test Accuracy: 98.41510009765625, spent_time: 32.57619661887487 min\n",
            "Epoch 50, Loss: 0.0666566714644432, Accuracy: 97.97980499267578, Test Loss: 0.05460898578166962, Test Accuracy: 98.42240142822266, spent_time: 33.23585059245428 min\n"
          ],
          "name": "stdout"
        }
      ]
    },
    {
      "cell_type": "markdown",
      "metadata": {
        "id": "kQnH1I9J2GOr",
        "colab_type": "text"
      },
      "source": [
        "**Plot**"
      ]
    },
    {
      "cell_type": "code",
      "metadata": {
        "id": "-ufzrsyT2Glc",
        "colab_type": "code",
        "colab": {
          "base_uri": "https://localhost:8080/",
          "height": 265
        },
        "outputId": "6a19b9f3-7eb6-4608-ea3f-5565a2c63a69"
      },
      "source": [
        "plt.plot(train_accuracies, label = 'Train Accuracy')\n",
        "plt.plot(test_accuracies, linestyle = 'dashed', label = 'Test Accuracy')\n",
        "plt.legend()\n",
        "plt.show()"
      ],
      "execution_count": 13,
      "outputs": [
        {
          "output_type": "display_data",
          "data": {
            "image/png": "[encoded data removed]",
            "text/plain": [
              "<Figure size 432x288 with 1 Axes>"
            ]
          },
          "metadata": {
            "tags": [],
            "needs_background": "light"
          }
        }
      ]
    }
  ]
}