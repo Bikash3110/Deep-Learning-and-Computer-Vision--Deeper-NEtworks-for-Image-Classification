{
  "nbformat": 4,
  "nbformat_minor": 0,
  "metadata": {
    "colab": {
      "name": "Untitled0.ipynb",
      "provenance": [],
      "collapsed_sections": []
    },
    "kernelspec": {
      "name": "python3",
      "display_name": "Python 3"
    }
  },
  "cells": [
    {
      "cell_type": "markdown",
      "metadata": {
        "id": "8o5m8txE3gYR",
        "colab_type": "text"
      },
      "source": [
        "**Imports**"
      ]
    },
    {
      "cell_type": "code",
      "metadata": {
        "id": "EdDcd_zf3fVN",
        "colab_type": "code",
        "colab": {}
      },
      "source": [
        "%tensorflow_version 1.x\n",
        "import tensorflow as tf\n",
        "from keras.datasets import cifar10\n",
        "from keras.datasets import mnist\n",
        "from keras.utils import np_utils\n",
        "from keras.models import Sequential\n",
        "from keras.layers.core import Dense, Dropout, Flatten\n",
        "from keras.layers.convolutional import Conv2D, MaxPooling2D, ZeroPadding2D\n",
        "from keras.optimizers import SGD\n",
        "from keras.optimizers import Adam\n",
        "import matplotlib.pyplot as plt\n",
        "import numpy as np\n",
        "import time"
      ],
      "execution_count": 0,
      "outputs": []
    },
    {
      "cell_type": "markdown",
      "metadata": {
        "id": "3GQEGVuY3vKF",
        "colab_type": "text"
      },
      "source": [
        "**Load Dataset: MNIST**"
      ]
    },
    {
      "cell_type": "code",
      "metadata": {
        "id": "m2LQYxo934dS",
        "colab_type": "code",
        "colab": {}
      },
      "source": [
        "IMG_CHANNELS = 1; IMG_ROWS = 28; IMG_COLS = 28;\n",
        "\n",
        "#constant\n",
        "BATCH_SIZE = 128; NB_EPOCH = 50; NB_CLASSES = 10; VERBOSE = 1; VALIDATION_SPLIT = 0.2;\n",
        "\n",
        "#load dataset\n",
        "(X_train, y_train), (X_test, y_test) = mnist.load_data()\n",
        "X_train = X_train.reshape(X_train.shape[0], IMG_ROWS, IMG_COLS, 1)\n",
        "X_test = X_test.reshape(X_test.shape[0], IMG_ROWS, IMG_COLS, 1)"
      ],
      "execution_count": 0,
      "outputs": []
    },
    {
      "cell_type": "markdown",
      "metadata": {
        "id": "SJmh7Wg14VPN",
        "colab_type": "text"
      },
      "source": [
        "(OPTIONAL) **Load Dataset:** **CIFAR10**"
      ]
    },
    {
      "cell_type": "code",
      "metadata": {
        "id": "J4u2JF--4Ghd",
        "colab_type": "code",
        "colab": {}
      },
      "source": [
        "# CIFAR_10 is set of 60K images 32x32 pixels, 3 channels\n",
        "#IMG_CHANNELS = 3; IMG_ROWS = 32; IMG_COLS = 32;\n",
        "\n",
        "#constant\n",
        "#BATCH_SIZE = 128; NB_EPOCH = 50; NB_CLASSES = 10; VERBOSE = 1; VALIDATION_SPLIT = 0.2;\n",
        "\n",
        "#load dataset\n",
        "#(X_train, y_train), (X_test, y_test) = cifar10.load_data()"
      ],
      "execution_count": 0,
      "outputs": []
    },
    {
      "cell_type": "code",
      "metadata": {
        "id": "Y-b43ShF41X8",
        "colab_type": "code",
        "colab": {
          "base_uri": "https://localhost:8080/",
          "height": 67
        },
        "outputId": "66d5c302-63cf-413c-8eab-0ef106ecbc7f"
      },
      "source": [
        "# Check DataSet statistics\n",
        "print('X_train shape:', X_train.shape)\n",
        "print(X_train.shape[0], 'train samples')\n",
        "print(X_test.shape[0], 'test samples')"
      ],
      "execution_count": 6,
      "outputs": [
        {
          "output_type": "stream",
          "text": [
            "X_train shape: (60000, 28, 28, 1)\n",
            "60000 train samples\n",
            "10000 test samples\n"
          ],
          "name": "stdout"
        }
      ]
    },
    {
      "cell_type": "code",
      "metadata": {
        "id": "IB3Y3wrz437s",
        "colab_type": "code",
        "colab": {}
      },
      "source": [
        "# convert to categorical\n",
        "Y_train = np_utils.to_categorical(y_train, NB_CLASSES)\n",
        "Y_test = np_utils.to_categorical(y_test, NB_CLASSES) \n",
        "\n",
        "# float\n",
        "X_train = X_train.astype('float32'); X_test = X_test.astype('float32');\n",
        "\n",
        "# normalization (for CIFAR10)\n",
        "#X_train /= 255; X_test /= 255;\n"
      ],
      "execution_count": 0,
      "outputs": []
    },
    {
      "cell_type": "markdown",
      "metadata": {
        "id": "dnsubSN14GRk",
        "colab_type": "text"
      },
      "source": [
        "**VGG16 CNN Model**"
      ]
    },
    {
      "cell_type": "code",
      "metadata": {
        "id": "19uJkeu15NlK",
        "colab_type": "code",
        "colab": {
          "base_uri": "https://localhost:8080/",
          "height": 1000
        },
        "outputId": "46475415-18ac-4fb4-c9ca-46bcd1528b47"
      },
      "source": [
        "model = Sequential()\n",
        "\n",
        "# Convolutional Layer1 and Pooling Layer1\n",
        "model.add(ZeroPadding2D((1,1), input_shape=(IMG_ROWS, IMG_COLS, IMG_CHANNELS)))\n",
        "model.add(Conv2D(filters = 64, kernel_size = 3, activation='relu'))\n",
        "model.add(ZeroPadding2D((1,1)))\n",
        "model.add(Conv2D(filters = 64, kernel_size = 3, activation='relu'))\n",
        "model.add(MaxPooling2D(pool_size=(2,2), strides=(2,2)))\n",
        "\n",
        "# Convolutional Layer2 and Pooling Layer2\n",
        "model.add(ZeroPadding2D((1,1)))\n",
        "model.add(Conv2D(filters = 128, kernel_size = 3, activation='relu'))\n",
        "model.add(ZeroPadding2D((1,1)))\n",
        "model.add(Conv2D(filters = 128, kernel_size = 3, activation='relu'))\n",
        "model.add(MaxPooling2D(pool_size=(2,2), strides=(2,2)))\n",
        "\n",
        "# Convolutional Layer3 and Pooling Layer3\n",
        "model.add(ZeroPadding2D((1,1)))\n",
        "model.add(Conv2D(filters = 256, kernel_size = 3, activation='relu'))\n",
        "model.add(ZeroPadding2D((1,1)))\n",
        "model.add(Conv2D(filters = 256, kernel_size = 3, activation='relu'))\n",
        "model.add(ZeroPadding2D((1,1)))\n",
        "model.add(Conv2D(filters = 256, kernel_size = 3, activation='relu'))\n",
        "model.add(MaxPooling2D(pool_size=(2,2), strides=(2,2)))\n",
        "\n",
        "# Convolutional Layer4 and Pooling Layer4\n",
        "model.add(ZeroPadding2D((1,1)))\n",
        "model.add(Conv2D(filters = 512, kernel_size = 3, activation='relu'))\n",
        "model.add(ZeroPadding2D((1,1)))\n",
        "model.add(Conv2D(filters = 512, kernel_size = 3, activation='relu'))\n",
        "model.add(ZeroPadding2D((1,1)))\n",
        "model.add(Conv2D(filters = 512, kernel_size = 3, activation='relu'))\n",
        "model.add(MaxPooling2D(pool_size=(2,2), strides=(2,2)))\n",
        "\n",
        "# Convolutional Layer5 and Pooling Layer5\n",
        "model.add(ZeroPadding2D((1,1)))\n",
        "model.add(Conv2D(filters = 512, kernel_size = 3, activation='relu'))\n",
        "model.add(ZeroPadding2D((1,1)))\n",
        "model.add(Conv2D(filters = 512, kernel_size = 3, activation='relu'))\n",
        "model.add(ZeroPadding2D((1,1)))\n",
        "model.add(Conv2D(filters = 512, kernel_size = 3, activation='relu'))\n",
        "#model.add(MaxPooling2D(pool_size=(2,2), strides=(2,2)))  # Uncomment this when using CIFAR10 DataSet and comment the MaxPooling below\n",
        "model.add(MaxPooling2D(pool_size=(1,1), strides=(2,2)))\n",
        "\n",
        "# FC Layers\n",
        "model.add(Flatten())\n",
        "#top layer of the VGG net\n",
        "model.add(Dense(units = 4096, activation='relu')); model.add(Dropout(0.5))\n",
        "model.add(Dense(units = 4096, activation='relu')); model.add(Dropout(0.5))\n",
        "model.add(Dense(NB_CLASSES, activation='softmax'))\n",
        "model.summary()"
      ],
      "execution_count": 8,
      "outputs": [
        {
          "output_type": "stream",
          "text": [
            "WARNING:tensorflow:From /tensorflow-1.15.2/python3.6/tensorflow_core/python/ops/resource_variable_ops.py:1630: calling BaseResourceVariable.__init__ (from tensorflow.python.ops.resource_variable_ops) with constraint is deprecated and will be removed in a future version.\n",
            "Instructions for updating:\n",
            "If using Keras pass *_constraint arguments to layers.\n",
            "WARNING:tensorflow:From /usr/local/lib/python3.6/dist-packages/keras/backend/tensorflow_backend.py:4070: The name tf.nn.max_pool is deprecated. Please use tf.nn.max_pool2d instead.\n",
            "\n",
            "Model: \"sequential_1\"\n",
            "_________________________________________________________________\n",
            "Layer (type)                 Output Shape              Param #   \n",
            "=================================================================\n",
            "zero_padding2d_1 (ZeroPaddin (None, 30, 30, 1)         0         \n",
            "_________________________________________________________________\n",
            "conv2d_1 (Conv2D)            (None, 28, 28, 64)        640       \n",
            "_________________________________________________________________\n",
            "zero_padding2d_2 (ZeroPaddin (None, 30, 30, 64)        0         \n",
            "_________________________________________________________________\n",
            "conv2d_2 (Conv2D)            (None, 28, 28, 64)        36928     \n",
            "_________________________________________________________________\n",
            "max_pooling2d_1 (MaxPooling2 (None, 14, 14, 64)        0         \n",
            "_________________________________________________________________\n",
            "zero_padding2d_3 (ZeroPaddin (None, 16, 16, 64)        0         \n",
            "_________________________________________________________________\n",
            "conv2d_3 (Conv2D)            (None, 14, 14, 128)       73856     \n",
            "_________________________________________________________________\n",
            "zero_padding2d_4 (ZeroPaddin (None, 16, 16, 128)       0         \n",
            "_________________________________________________________________\n",
            "conv2d_4 (Conv2D)            (None, 14, 14, 128)       147584    \n",
            "_________________________________________________________________\n",
            "max_pooling2d_2 (MaxPooling2 (None, 7, 7, 128)         0         \n",
            "_________________________________________________________________\n",
            "zero_padding2d_5 (ZeroPaddin (None, 9, 9, 128)         0         \n",
            "_________________________________________________________________\n",
            "conv2d_5 (Conv2D)            (None, 7, 7, 256)         295168    \n",
            "_________________________________________________________________\n",
            "zero_padding2d_6 (ZeroPaddin (None, 9, 9, 256)         0         \n",
            "_________________________________________________________________\n",
            "conv2d_6 (Conv2D)            (None, 7, 7, 256)         590080    \n",
            "_________________________________________________________________\n",
            "zero_padding2d_7 (ZeroPaddin (None, 9, 9, 256)         0         \n",
            "_________________________________________________________________\n",
            "conv2d_7 (Conv2D)            (None, 7, 7, 256)         590080    \n",
            "_________________________________________________________________\n",
            "max_pooling2d_3 (MaxPooling2 (None, 3, 3, 256)         0         \n",
            "_________________________________________________________________\n",
            "zero_padding2d_8 (ZeroPaddin (None, 5, 5, 256)         0         \n",
            "_________________________________________________________________\n",
            "conv2d_8 (Conv2D)            (None, 3, 3, 512)         1180160   \n",
            "_________________________________________________________________\n",
            "zero_padding2d_9 (ZeroPaddin (None, 5, 5, 512)         0         \n",
            "_________________________________________________________________\n",
            "conv2d_9 (Conv2D)            (None, 3, 3, 512)         2359808   \n",
            "_________________________________________________________________\n",
            "zero_padding2d_10 (ZeroPaddi (None, 5, 5, 512)         0         \n",
            "_________________________________________________________________\n",
            "conv2d_10 (Conv2D)           (None, 3, 3, 512)         2359808   \n",
            "_________________________________________________________________\n",
            "max_pooling2d_4 (MaxPooling2 (None, 1, 1, 512)         0         \n",
            "_________________________________________________________________\n",
            "zero_padding2d_11 (ZeroPaddi (None, 3, 3, 512)         0         \n",
            "_________________________________________________________________\n",
            "conv2d_11 (Conv2D)           (None, 1, 1, 512)         2359808   \n",
            "_________________________________________________________________\n",
            "zero_padding2d_12 (ZeroPaddi (None, 3, 3, 512)         0         \n",
            "_________________________________________________________________\n",
            "conv2d_12 (Conv2D)           (None, 1, 1, 512)         2359808   \n",
            "_________________________________________________________________\n",
            "zero_padding2d_13 (ZeroPaddi (None, 3, 3, 512)         0         \n",
            "_________________________________________________________________\n",
            "conv2d_13 (Conv2D)           (None, 1, 1, 512)         2359808   \n",
            "_________________________________________________________________\n",
            "max_pooling2d_5 (MaxPooling2 (None, 1, 1, 512)         0         \n",
            "_________________________________________________________________\n",
            "flatten_1 (Flatten)          (None, 512)               0         \n",
            "_________________________________________________________________\n",
            "dense_1 (Dense)              (None, 4096)              2101248   \n",
            "_________________________________________________________________\n",
            "dropout_1 (Dropout)          (None, 4096)              0         \n",
            "_________________________________________________________________\n",
            "dense_2 (Dense)              (None, 4096)              16781312  \n",
            "_________________________________________________________________\n",
            "dropout_2 (Dropout)          (None, 4096)              0         \n",
            "_________________________________________________________________\n",
            "dense_3 (Dense)              (None, 10)                40970     \n",
            "=================================================================\n",
            "Total params: 33,637,066\n",
            "Trainable params: 33,637,066\n",
            "Non-trainable params: 0\n",
            "_________________________________________________________________\n"
          ],
          "name": "stdout"
        }
      ]
    },
    {
      "cell_type": "markdown",
      "metadata": {
        "id": "HhP1wPgR5_Gq",
        "colab_type": "text"
      },
      "source": [
        "**Training**"
      ]
    },
    {
      "cell_type": "code",
      "metadata": {
        "id": "2SFinTw86Ax9",
        "colab_type": "code",
        "colab": {
          "base_uri": "https://localhost:8080/",
          "height": 1000
        },
        "outputId": "66d57737-4d79-497d-84c3-02fbd28f58d2"
      },
      "source": [
        "start_time = time.time()\n",
        "\n",
        "#================================================================================================\n",
        "## Training\n",
        "\n",
        "model.compile(loss= tf.keras.losses.CategoricalCrossentropy(), optimizer='sgd', metrics=['accuracy'])\n",
        "\n",
        "\n",
        "history = model.fit(X_train, Y_train, batch_size=BATCH_SIZE,\n",
        "                  epochs=NB_EPOCH, validation_split=VALIDATION_SPLIT, verbose=VERBOSE)\n",
        "\n",
        "#================================================================================================\n",
        "## Testing\n",
        "print('Testing...')\n",
        "score = model.evaluate(X_test, Y_test, batch_size=BATCH_SIZE, verbose=VERBOSE)\n",
        "print(\"\\nTest score:\", score[0]); print('Test accuracy:', score[1]);\n",
        "\n",
        "# save model\n",
        "model_json = model.to_json()\n",
        "open('architecture_VGG16.json', 'w').write(model_json)\n",
        "model.save_weights('weights_VGG16.h5', overwrite=True)\n",
        "\n",
        "# list all data in history\n",
        "print(history.history.keys()); print(history.history)"
      ],
      "execution_count": 9,
      "outputs": [
        {
          "output_type": "stream",
          "text": [
            "WARNING:tensorflow:From /usr/local/lib/python3.6/dist-packages/keras/backend/tensorflow_backend.py:422: The name tf.global_variables is deprecated. Please use tf.compat.v1.global_variables instead.\n",
            "\n",
            "Train on 48000 samples, validate on 12000 samples\n",
            "Epoch 1/50\n",
            "48000/48000 [==============================] - 44s 919us/step - loss: 2.2995 - accuracy: 0.1151 - val_loss: 2.2944 - val_accuracy: 0.1060\n",
            "Epoch 2/50\n",
            "48000/48000 [==============================] - 36s 759us/step - loss: 2.2376 - accuracy: 0.2045 - val_loss: 1.4387 - val_accuracy: 0.5782\n",
            "Epoch 3/50\n",
            "48000/48000 [==============================] - 36s 760us/step - loss: 0.7218 - accuracy: 0.7568 - val_loss: 0.2183 - val_accuracy: 0.9333\n",
            "Epoch 4/50\n",
            "48000/48000 [==============================] - 37s 761us/step - loss: 0.1744 - accuracy: 0.9471 - val_loss: 0.1322 - val_accuracy: 0.9592\n",
            "Epoch 5/50\n",
            "48000/48000 [==============================] - 36s 760us/step - loss: 0.1029 - accuracy: 0.9685 - val_loss: 0.1028 - val_accuracy: 0.9689\n",
            "Epoch 6/50\n",
            "48000/48000 [==============================] - 36s 759us/step - loss: 0.0743 - accuracy: 0.9771 - val_loss: 0.0687 - val_accuracy: 0.9798\n",
            "Epoch 7/50\n",
            "48000/48000 [==============================] - 36s 758us/step - loss: 0.0549 - accuracy: 0.9826 - val_loss: 0.0652 - val_accuracy: 0.9805\n",
            "Epoch 8/50\n",
            "48000/48000 [==============================] - 36s 759us/step - loss: 0.0438 - accuracy: 0.9866 - val_loss: 0.0639 - val_accuracy: 0.9816\n",
            "Epoch 9/50\n",
            "48000/48000 [==============================] - 36s 760us/step - loss: 0.0376 - accuracy: 0.9883 - val_loss: 0.0520 - val_accuracy: 0.9850\n",
            "Epoch 10/50\n",
            "48000/48000 [==============================] - 36s 757us/step - loss: 0.0305 - accuracy: 0.9907 - val_loss: 0.0532 - val_accuracy: 0.9851\n",
            "Epoch 11/50\n",
            "48000/48000 [==============================] - 36s 757us/step - loss: 0.0339 - accuracy: 0.9907 - val_loss: 0.0506 - val_accuracy: 0.9861\n",
            "Epoch 12/50\n",
            "48000/48000 [==============================] - 36s 759us/step - loss: 0.0210 - accuracy: 0.9933 - val_loss: 0.0528 - val_accuracy: 0.9860\n",
            "Epoch 13/50\n",
            "48000/48000 [==============================] - 36s 760us/step - loss: 0.0173 - accuracy: 0.9950 - val_loss: 0.0550 - val_accuracy: 0.9858\n",
            "Epoch 14/50\n",
            "48000/48000 [==============================] - 36s 760us/step - loss: 0.0123 - accuracy: 0.9967 - val_loss: 0.0505 - val_accuracy: 0.9868\n",
            "Epoch 15/50\n",
            "48000/48000 [==============================] - 36s 759us/step - loss: 0.0119 - accuracy: 0.9962 - val_loss: 0.0567 - val_accuracy: 0.9858\n",
            "Epoch 16/50\n",
            "48000/48000 [==============================] - 36s 759us/step - loss: 0.0102 - accuracy: 0.9970 - val_loss: 0.0561 - val_accuracy: 0.9862\n",
            "Epoch 17/50\n",
            "48000/48000 [==============================] - 36s 760us/step - loss: 0.0091 - accuracy: 0.9973 - val_loss: 0.0455 - val_accuracy: 0.9896\n",
            "Epoch 18/50\n",
            "48000/48000 [==============================] - 36s 758us/step - loss: 0.0056 - accuracy: 0.9985 - val_loss: 0.0607 - val_accuracy: 0.9869\n",
            "Epoch 19/50\n",
            "48000/48000 [==============================] - 36s 759us/step - loss: 0.0049 - accuracy: 0.9986 - val_loss: 0.0492 - val_accuracy: 0.9896\n",
            "Epoch 20/50\n",
            "48000/48000 [==============================] - 36s 759us/step - loss: 0.0052 - accuracy: 0.9985 - val_loss: 0.0664 - val_accuracy: 0.9856\n",
            "Epoch 21/50\n",
            "48000/48000 [==============================] - 36s 759us/step - loss: 0.0057 - accuracy: 0.9983 - val_loss: 0.0580 - val_accuracy: 0.9881\n",
            "Epoch 22/50\n",
            "48000/48000 [==============================] - 36s 759us/step - loss: 0.0033 - accuracy: 0.9991 - val_loss: 0.0652 - val_accuracy: 0.9873\n",
            "Epoch 23/50\n",
            "48000/48000 [==============================] - 36s 760us/step - loss: 0.0129 - accuracy: 0.9970 - val_loss: 0.0620 - val_accuracy: 0.9871\n",
            "Epoch 24/50\n",
            "48000/48000 [==============================] - 36s 759us/step - loss: 0.0023 - accuracy: 0.9992 - val_loss: 0.0592 - val_accuracy: 0.9884\n",
            "Epoch 25/50\n",
            "48000/48000 [==============================] - 36s 758us/step - loss: 0.0013 - accuracy: 0.9996 - val_loss: 0.0598 - val_accuracy: 0.9888\n",
            "Epoch 26/50\n",
            "48000/48000 [==============================] - 36s 760us/step - loss: 0.0039 - accuracy: 0.9986 - val_loss: 0.1024 - val_accuracy: 0.9801\n",
            "Epoch 27/50\n",
            "48000/48000 [==============================] - 36s 759us/step - loss: 0.0036 - accuracy: 0.9988 - val_loss: 0.0697 - val_accuracy: 0.9863\n",
            "Epoch 28/50\n",
            "48000/48000 [==============================] - 36s 758us/step - loss: 0.0054 - accuracy: 0.9982 - val_loss: 0.0626 - val_accuracy: 0.9872\n",
            "Epoch 29/50\n",
            "48000/48000 [==============================] - 36s 758us/step - loss: 0.0338 - accuracy: 0.9920 - val_loss: 0.0479 - val_accuracy: 0.9886\n",
            "Epoch 30/50\n",
            "48000/48000 [==============================] - 36s 759us/step - loss: 0.0036 - accuracy: 0.9991 - val_loss: 0.0576 - val_accuracy: 0.9880\n",
            "Epoch 31/50\n",
            "48000/48000 [==============================] - 36s 760us/step - loss: 0.0015 - accuracy: 0.9998 - val_loss: 0.0565 - val_accuracy: 0.9893\n",
            "Epoch 32/50\n",
            "48000/48000 [==============================] - 37s 761us/step - loss: 0.0011 - accuracy: 0.9997 - val_loss: 0.0603 - val_accuracy: 0.9887\n",
            "Epoch 33/50\n",
            "48000/48000 [==============================] - 36s 759us/step - loss: 6.3330e-04 - accuracy: 0.9999 - val_loss: 0.0586 - val_accuracy: 0.9899\n",
            "Epoch 34/50\n",
            "48000/48000 [==============================] - 37s 761us/step - loss: 3.5922e-04 - accuracy: 1.0000 - val_loss: 0.0636 - val_accuracy: 0.9897\n",
            "Epoch 35/50\n",
            "48000/48000 [==============================] - 36s 759us/step - loss: 1.6207e-04 - accuracy: 1.0000 - val_loss: 0.0665 - val_accuracy: 0.9896\n",
            "Epoch 36/50\n",
            "48000/48000 [==============================] - 36s 759us/step - loss: 5.4454e-04 - accuracy: 0.9999 - val_loss: 0.0673 - val_accuracy: 0.9888\n",
            "Epoch 37/50\n",
            "48000/48000 [==============================] - 36s 758us/step - loss: 1.3300e-04 - accuracy: 1.0000 - val_loss: 0.0675 - val_accuracy: 0.9889\n",
            "Epoch 38/50\n",
            "48000/48000 [==============================] - 36s 758us/step - loss: 9.7925e-05 - accuracy: 1.0000 - val_loss: 0.0700 - val_accuracy: 0.9894\n",
            "Epoch 39/50\n",
            "48000/48000 [==============================] - 36s 758us/step - loss: 8.1616e-05 - accuracy: 1.0000 - val_loss: 0.0707 - val_accuracy: 0.9893\n",
            "Epoch 40/50\n",
            "48000/48000 [==============================] - 36s 759us/step - loss: 5.3185e-05 - accuracy: 1.0000 - val_loss: 0.0727 - val_accuracy: 0.9893\n",
            "Epoch 41/50\n",
            "48000/48000 [==============================] - 36s 758us/step - loss: 7.0850e-05 - accuracy: 1.0000 - val_loss: 0.0755 - val_accuracy: 0.9886\n",
            "Epoch 42/50\n",
            "48000/48000 [==============================] - 36s 758us/step - loss: 1.1031e-04 - accuracy: 1.0000 - val_loss: 0.0741 - val_accuracy: 0.9895\n",
            "Epoch 43/50\n",
            "48000/48000 [==============================] - 36s 759us/step - loss: 5.9027e-05 - accuracy: 1.0000 - val_loss: 0.0749 - val_accuracy: 0.9895\n",
            "Epoch 44/50\n",
            "48000/48000 [==============================] - 36s 757us/step - loss: 4.7793e-05 - accuracy: 1.0000 - val_loss: 0.0753 - val_accuracy: 0.9898\n",
            "Epoch 45/50\n",
            "48000/48000 [==============================] - 36s 758us/step - loss: 2.8233e-05 - accuracy: 1.0000 - val_loss: 0.0759 - val_accuracy: 0.9893\n",
            "Epoch 46/50\n",
            "48000/48000 [==============================] - 36s 758us/step - loss: 3.0686e-05 - accuracy: 1.0000 - val_loss: 0.0768 - val_accuracy: 0.9893\n",
            "Epoch 47/50\n",
            "48000/48000 [==============================] - 36s 758us/step - loss: 3.2116e-05 - accuracy: 1.0000 - val_loss: 0.0784 - val_accuracy: 0.9890\n",
            "Epoch 48/50\n",
            "48000/48000 [==============================] - 36s 759us/step - loss: 3.0430e-05 - accuracy: 1.0000 - val_loss: 0.0797 - val_accuracy: 0.9887\n",
            "Epoch 49/50\n",
            "48000/48000 [==============================] - 36s 758us/step - loss: 2.6556e-05 - accuracy: 1.0000 - val_loss: 0.0797 - val_accuracy: 0.9891\n",
            "Epoch 50/50\n",
            "48000/48000 [==============================] - 36s 758us/step - loss: 2.4017e-05 - accuracy: 1.0000 - val_loss: 0.0789 - val_accuracy: 0.9894\n",
            "Testing...\n",
            "10000/10000 [==============================] - 2s 191us/step\n",
            "\n",
            "Test score: 0.06720940882283283\n",
            "Test accuracy: 0.989799976348877\n",
            "dict_keys(['val_loss', 'val_accuracy', 'loss', 'accuracy'])\n",
            "{'val_loss': [2.2944259567260743, 1.438675498008728, 0.21828595360120137, 0.1322363503376643, 0.1027764284312725, 0.0686569021306932, 0.06522955469042063, 0.0639006773767372, 0.05203692826194068, 0.053150218948101006, 0.0505729959049883, 0.05275634556966058, 0.05502160262006024, 0.0504948095358753, 0.056711387106139835, 0.0561075761395817, 0.04550840237174028, 0.060681115470302756, 0.04917233008541128, 0.06636744358664146, 0.05798191533825108, 0.06520058211385671, 0.06197516024194192, 0.05919645740853775, 0.05976530453812908, 0.10236248628694254, 0.0696727559148203, 0.06260309107547316, 0.04785615348749949, 0.05760263716191791, 0.056525627446075304, 0.06025204346512813, 0.05861253300315548, 0.06360071616765754, 0.06649170044235181, 0.06726951901856683, 0.0674814164718708, 0.06995256348611777, 0.07073854439387174, 0.07271794047243679, 0.0754701022761986, 0.07407165614997863, 0.07490268592475362, 0.07525395277421891, 0.07594933931643989, 0.07683801269450088, 0.07835223981655277, 0.07967197721651871, 0.07968099016139837, 0.07890062919885929], 'val_accuracy': [0.10599999874830246, 0.578249990940094, 0.9332500100135803, 0.9591666460037231, 0.968916654586792, 0.9798333048820496, 0.9804999828338623, 0.9815833568572998, 0.9850000143051147, 0.9850833415985107, 0.9860833287239075, 0.9860000014305115, 0.9858333468437195, 0.9868333339691162, 0.9858333468437195, 0.9861666560173035, 0.9895833134651184, 0.9869166612625122, 0.9895833134651184, 0.9855833053588867, 0.9880833625793457, 0.987333357334137, 0.9870833158493042, 0.9884166717529297, 0.9888333082199097, 0.9800833463668823, 0.9863333106040955, 0.9871666431427002, 0.9885833263397217, 0.9879999756813049, 0.9893333315849304, 0.9887499809265137, 0.9899166822433472, 0.9896666407585144, 0.9895833134651184, 0.9888333082199097, 0.9889166951179504, 0.9894166588783264, 0.9893333315849304, 0.9892500042915344, 0.9885833263397217, 0.9894999861717224, 0.9894999861717224, 0.9897500276565552, 0.9892500042915344, 0.9893333315849304, 0.9890000224113464, 0.9886666536331177, 0.9890833497047424, 0.9894166588783264], 'loss': [2.2995416634877524, 2.2375995483398436, 0.7217644193172454, 0.17440449921786785, 0.10289225377639134, 0.0743438223451376, 0.05491589414576689, 0.04378799001996716, 0.037610971126084525, 0.030496377219756444, 0.03386211326376846, 0.02103755059481288, 0.017298001661741485, 0.012340467744972557, 0.01188552369751657, 0.010175076990465944, 0.009136917127063498, 0.005562272137535426, 0.00490347367929644, 0.005153663811885053, 0.005715359010733664, 0.0033307509843531684, 0.012872619241514864, 0.0022666025779205182, 0.001297172676444461, 0.003906697255860005, 0.0036465995253626413, 0.0054262884384127874, 0.03384578593963913, 0.0035810608885949477, 0.0014901121761940884, 0.0011016090466388657, 0.0006333020560668956, 0.0003592194331480035, 0.0001620683388209727, 0.0005445428241846457, 0.00013300264109481456, 9.792509838386347e-05, 8.161602222783889e-05, 5.3184837364672906e-05, 7.085000759298054e-05, 0.00011030597419615636, 5.902720324153658e-05, 4.7792571691161356e-05, 2.8232917285019236e-05, 3.0686169262101734e-05, 3.211556259971834e-05, 3.0429727672791766e-05, 2.655584341323447e-05, 2.4017221594817783e-05], 'accuracy': [0.11510417, 0.2045, 0.7568125, 0.94708335, 0.96847916, 0.9771042, 0.9826458, 0.986625, 0.98825, 0.9906875, 0.9906667, 0.9933125, 0.99504167, 0.99666667, 0.9962083, 0.9969792, 0.99733335, 0.9984583, 0.998625, 0.9985, 0.9982708, 0.9990625, 0.99704164, 0.99920833, 0.999625, 0.9985833, 0.99883336, 0.9981875, 0.99202085, 0.9990625, 0.99975, 0.99970835, 0.99985415, 0.99997914, 0.99997914, 0.999875, 1.0, 1.0, 1.0, 1.0, 1.0, 0.99995834, 1.0, 1.0, 1.0, 1.0, 1.0, 1.0, 1.0, 1.0]}\n"
          ],
          "name": "stdout"
        }
      ]
    },
    {
      "cell_type": "markdown",
      "metadata": {
        "id": "kazPqBpE6Sc4",
        "colab_type": "text"
      },
      "source": [
        "**PLot**"
      ]
    },
    {
      "cell_type": "code",
      "metadata": {
        "id": "tg6MCZNZ6Tum",
        "colab_type": "code",
        "colab": {
          "base_uri": "https://localhost:8080/",
          "height": 606
        },
        "outputId": "cd1b721e-6388-43a4-ff6e-4597dee14dfe"
      },
      "source": [
        "# summarize history for accuracy\n",
        "plt.plot(history.history['accuracy']); plt.plot(history.history['val_accuracy']);\n",
        "plt.title('model accuracy'); plt.ylabel('accuracy'); plt.xlabel('epoch'); \n",
        "plt.legend(['train', 'test'], loc='upper left'); plt.show()\n",
        "\n",
        "# summarize history for loss\n",
        "plt.plot(history.history['loss']); plt.plot(history.history['val_loss']);\n",
        "plt.title('model loss'); plt.ylabel('loss'); plt.xlabel('epoch');\n",
        "plt.legend(['train', 'test'], loc='upper left'); plt.show()\n",
        "print(); print(\"Execution Time %s seconds: \" % (time.time() - start_time))"
      ],
      "execution_count": 10,
      "outputs": [
        {
          "output_type": "display_data",
          "data": {
            "image/png": "[encoded data removed]",
            "text/plain": [
              "<Figure size 432x288 with 1 Axes>"
            ]
          },
          "metadata": {
            "tags": [],
            "needs_background": "light"
          }
        },
        {
          "output_type": "display_data",
          "data": {
            "image/png": "[encoded data removed]",
            "text/plain": [
              "<Figure size 432x288 with 1 Axes>"
            ]
          },
          "metadata": {
            "tags": [],
            "needs_background": "light"
          }
        },
        {
          "output_type": "stream",
          "text": [
            "\n",
            "Execution Time 1861.9940462112427 seconds: \n"
          ],
          "name": "stdout"
        }
      ]
    }
  ]
}